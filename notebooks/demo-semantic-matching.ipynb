{
 "cells": [
  {
   "cell_type": "code",
   "execution_count": null,
   "metadata": {},
   "outputs": [],
   "source": [
    "%pip install transformers\n",
    "%pip install sentence-transformers\n",
    "%pip install scikit-learn"
   ]
  },
  {
   "cell_type": "code",
   "execution_count": 3,
   "metadata": {},
   "outputs": [],
   "source": [
    "import pandas as pd\n",
    "\n",
    "df1 = pd.read_csv(\"source1.csv\") \n",
    "df2 = pd.read_csv(\"source2.csv\")\n",
    "\n",
    "source1_name_field = df1['name'].tolist()\n",
    "source2_customer_field = df2['customer'].tolist()"
   ]
  },
  {
   "cell_type": "code",
   "execution_count": 4,
   "metadata": {},
   "outputs": [
    {
     "name": "stdout",
     "output_type": "stream",
     "text": [
      "[[0.9999999  0.15283045 0.10979268 0.31956166]\n",
      " [0.15283045 1.         0.3738672  0.1909325 ]\n",
      " [0.10979268 0.3738672  1.0000001  0.30499148]\n",
      " [0.31956166 0.1909325  0.30499148 1.0000001 ]]\n",
      "Benson & Hedges  Benson aND Hedges\n",
      "Ram And Co Ram AND Co\n",
      "SK & Company SK & Co\n",
      "Michael ANd Co Michael & Company\n"
     ]
    }
   ],
   "source": [
    "import numpy as np\n",
    "from sentence_transformers import SentenceTransformer\n",
    "model = SentenceTransformer('all-MiniLM-L6-v2')\n",
    "\n",
    "emb_source1_name_field = model.encode(source1_name_field) \n",
    "emb_source1_name_field = model.encode(source2_customer_field)\n",
    "\n",
    "from sklearn.metrics.pairwise import cosine_similarity\n",
    "\n",
    "similarity = cosine_similarity(emb_source1_name_field, emb_source1_name_field)\n",
    "\n",
    "\n",
    "print(similarity)\n",
    "indices = np.argmax(similarity, axis=1)\n",
    "\n",
    "\n",
    "\n",
    "for i in range(len(indices)):\n",
    "  print(source1_name_field[i], source2_customer_field[indices[i]])"
   ]
  },
  {
   "cell_type": "code",
   "execution_count": null,
   "metadata": {},
   "outputs": [],
   "source": [
    "from sentence_transformers import SentenceTransformer\n",
    "from sklearn.metrics.pairwise import cosine_similarity\n",
    "model = SentenceTransformer('all-MiniLM-L6-v2') \n",
    "\n",
    "sentence1 = \"Benson and Hedges\"\n",
    "sentence2 = \"Hedges AND Benson\"\n",
    "sentence3 = \"Hedges AND Benson\"\n",
    "sentence4 = \"HEDGES AND BENSON\"\n",
    "sentence5 = \"hedges & benson\"\n",
    "sentence6 = \"BENSON & HEDges\"\n",
    "sentence7 = \"Jack And Jill\"\n",
    "\n",
    "# Encode sentences to get their embeddings  \n",
    "embedding1 = model.encode(sentence1)\n",
    "embedding2 = model.encode(sentence2)\n",
    "embedding3 = model.encode(sentence3)\n",
    "embedding4 = model.encode(sentence4)\n",
    "embedding5 = model.encode(sentence5)\n",
    "embedding6 = model.encode(sentence6)\n",
    "embedding7 = model.encode(sentence7)\n",
    "embeddings=[embedding1,embedding2,embedding3,embedding4,embedding5,embedding6,embedding7]\n",
    "\n",
    "# Calculate cosine similarity between embeddings\n",
    "sim = cosine_similarity(embeddings)\n",
    "print(sim)\n",
    "print(\"Similarity score:\", sim[0][0])"
   ]
  }
 ],
 "metadata": {
  "kernelspec": {
   "display_name": "Python 3.10.4 64-bit",
   "language": "python",
   "name": "python3"
  },
  "language_info": {
   "codemirror_mode": {
    "name": "ipython",
    "version": 3
   },
   "file_extension": ".py",
   "mimetype": "text/x-python",
   "name": "python",
   "nbconvert_exporter": "python",
   "pygments_lexer": "ipython3",
   "version": "3.10.13"
  },
  "orig_nbformat": 4,
  "vscode": {
   "interpreter": {
    "hash": "3ad933181bd8a04b432d3370b9dc3b0662ad032c4dfaa4e4f1596c548f763858"
   }
  }
 },
 "nbformat": 4,
 "nbformat_minor": 2
}
